{
  "nbformat": 4,
  "nbformat_minor": 0,
  "metadata": {
    "colab": {
      "name": "Simple Programs.ipynb",
      "provenance": [],
      "authorship_tag": "ABX9TyN47TfJJ4vpZvCjvbEnKvYO",
      "include_colab_link": true
    },
    "kernelspec": {
      "name": "python3",
      "display_name": "Python 3"
    },
    "language_info": {
      "name": "python"
    }
  },
  "cells": [
    {
      "cell_type": "markdown",
      "metadata": {
        "id": "view-in-github",
        "colab_type": "text"
      },
      "source": [
        "<a href=\"https://colab.research.google.com/github/madhusrigarlapati/BasicML/blob/main/Simple_Programs.ipynb\" target=\"_parent\"><img src=\"https://colab.research.google.com/assets/colab-badge.svg\" alt=\"Open In Colab\"/></a>"
      ]
    },
    {
      "cell_type": "markdown",
      "metadata": {
        "id": "bBk0eC8Qtj2D"
      },
      "source": [
        "# ***My First Notebook***"
      ]
    },
    {
      "cell_type": "markdown",
      "metadata": {
        "id": "RAfmMFhn4yzf"
      },
      "source": [
        " ***1. Sum of numbers :***"
      ]
    },
    {
      "cell_type": "code",
      "metadata": {
        "colab": {
          "base_uri": "https://localhost:8080/"
        },
        "id": "2nkA6mfA1ZjW",
        "outputId": "db1cd25d-9069-4d0a-8f51-7a85f0778f9b"
      },
      "source": [
        "a=int(input(\"Enter the number a:\"))\n",
        "b=int(input(\"Enter the number b:\"))\n",
        "print(\"sum of two numbers is=\",a+b)"
      ],
      "execution_count": 16,
      "outputs": [
        {
          "output_type": "stream",
          "text": [
            "Enter the number a:30\n",
            "Enter the number b:40\n",
            "sum of two numbers is= 70\n"
          ],
          "name": "stdout"
        }
      ]
    },
    {
      "cell_type": "markdown",
      "metadata": {
        "id": "h-0YQafd6ANQ"
      },
      "source": [
        "***2. Find the number is positive or negative***"
      ]
    },
    {
      "cell_type": "code",
      "metadata": {
        "colab": {
          "base_uri": "https://localhost:8080/"
        },
        "id": "Ed3VEiLL6P1K",
        "outputId": "118c0160-045e-4a66-b76f-833e7f2990ed"
      },
      "source": [
        "c=int(input(\"Enter the number:\"))\n",
        "if c>0:\n",
        "  print(c,\"is positive\")\n",
        "elif c<0:\n",
        "  print(c,\"is negative\")\n",
        "else:\n",
        "  print(\"Neither positive nor negative\")"
      ],
      "execution_count": 12,
      "outputs": [
        {
          "output_type": "stream",
          "text": [
            "Enter the number:0\n",
            "Neither positive nor negative\n"
          ],
          "name": "stdout"
        }
      ]
    },
    {
      "cell_type": "markdown",
      "metadata": {
        "id": "u6HDPp49842G"
      },
      "source": [
        "***3.Find the number is Even or Odd***"
      ]
    },
    {
      "cell_type": "code",
      "metadata": {
        "colab": {
          "base_uri": "https://localhost:8080/"
        },
        "id": "CXWuQLja8q_0",
        "outputId": "a1987b28-e221-4abb-8ddf-5ba9083014f9"
      },
      "source": [
        "n=int(input(\"Enter the number:\"))\n",
        "if n%2==0:\n",
        "  print(n,\"is Even\")\n",
        "else:\n",
        "  print(n,\"is Odd\")"
      ],
      "execution_count": 13,
      "outputs": [
        {
          "output_type": "stream",
          "text": [
            "Enter the number:33\n",
            "33 is Odd\n"
          ],
          "name": "stdout"
        }
      ]
    }
  ]
}